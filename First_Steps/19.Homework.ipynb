{
 "cells": [
  {
   "cell_type": "code",
   "execution_count": 46,
   "id": "2f08a528-b649-4886-82f1-2055621d5db7",
   "metadata": {},
   "outputs": [],
   "source": [
    "import xlwings as xw\n",
    "wb = xw.Book()\n",
    "sheet = wb.sheets[0]"
   ]
  },
  {
   "cell_type": "code",
   "execution_count": 47,
   "id": "94f28af4-85d5-4f1b-a10e-f478ef7c4854",
   "metadata": {},
   "outputs": [],
   "source": [
    "sheet.range(\"A1\").name = \"Number1\""
   ]
  },
  {
   "cell_type": "code",
   "execution_count": 48,
   "id": "ac08d902-54f3-4405-b194-32440fe8e23d",
   "metadata": {},
   "outputs": [],
   "source": [
    "sheet.range(\"B1\").name = \"Number2\""
   ]
  },
  {
   "cell_type": "code",
   "execution_count": 49,
   "id": "5a48fd7b-4acd-45b9-9491-063c5b11506c",
   "metadata": {},
   "outputs": [],
   "source": [
    "sheet.range(\"Number1\").value"
   ]
  },
  {
   "cell_type": "code",
   "execution_count": 50,
   "id": "f68586f9-41a9-4183-be48-d418715b0ffd",
   "metadata": {},
   "outputs": [],
   "source": [
    "sheet.range(\"Number2\").value"
   ]
  },
  {
   "cell_type": "code",
   "execution_count": 51,
   "id": "8545ba74-e383-46a2-a411-5bebf5c84918",
   "metadata": {},
   "outputs": [
    {
     "ename": "TypeError",
     "evalue": "unsupported operand type(s) for +: 'NoneType' and 'NoneType'",
     "output_type": "error",
     "traceback": [
      "\u001b[1;31m---------------------------------------------------------------------------\u001b[0m",
      "\u001b[1;31mTypeError\u001b[0m                                 Traceback (most recent call last)",
      "Cell \u001b[1;32mIn[51], line 1\u001b[0m\n\u001b[1;32m----> 1\u001b[0m add_numbers \u001b[38;5;241m=\u001b[39m sheet\u001b[38;5;241m.\u001b[39mrange(\u001b[38;5;124m\"\u001b[39m\u001b[38;5;124mNumber1\u001b[39m\u001b[38;5;124m\"\u001b[39m)\u001b[38;5;241m.\u001b[39mvalue \u001b[38;5;241m+\u001b[39m sheet\u001b[38;5;241m.\u001b[39mrange(\u001b[38;5;124m\"\u001b[39m\u001b[38;5;124mNumber2\u001b[39m\u001b[38;5;124m\"\u001b[39m)\u001b[38;5;241m.\u001b[39mvalue\n\u001b[0;32m      2\u001b[0m add_numbers\n",
      "\u001b[1;31mTypeError\u001b[0m: unsupported operand type(s) for +: 'NoneType' and 'NoneType'"
     ]
    }
   ],
   "source": [
    "add_numbers = sheet.range(\"Number1\").value + sheet.range(\"Number2\").value\n",
    "add_numbers"
   ]
  },
  {
   "cell_type": "code",
   "execution_count": null,
   "id": "ba36e4f6-1d57-4793-88a1-edfdb5f06747",
   "metadata": {},
   "outputs": [],
   "source": [
    "sheet.range(\"F10\").value = add_numbers"
   ]
  },
  {
   "cell_type": "code",
   "execution_count": null,
   "id": "6d3f946f-069a-4307-8c7d-c263263ada22",
   "metadata": {},
   "outputs": [],
   "source": [
    "wb = xw.Book(\"Test2.xlsx\")"
   ]
  },
  {
   "cell_type": "code",
   "execution_count": null,
   "id": "4d74844d-2747-4149-a5e8-8163b62bcab4",
   "metadata": {},
   "outputs": [],
   "source": [
    "sheet = wb.sheets[0]"
   ]
  },
  {
   "cell_type": "code",
   "execution_count": null,
   "id": "0e615e1b-9b28-4732-98a7-998a41860410",
   "metadata": {},
   "outputs": [],
   "source": [
    "sheet.range(\"C1\").value = \"two\""
   ]
  },
  {
   "cell_type": "code",
   "execution_count": null,
   "id": "1ee542e8-c0c7-4567-bb25-e5cc40820d85",
   "metadata": {},
   "outputs": [],
   "source": []
  }
 ],
 "metadata": {
  "kernelspec": {
   "display_name": "Python 3 (ipykernel)",
   "language": "python",
   "name": "python3"
  },
  "language_info": {
   "codemirror_mode": {
    "name": "ipython",
    "version": 3
   },
   "file_extension": ".py",
   "mimetype": "text/x-python",
   "name": "python",
   "nbconvert_exporter": "python",
   "pygments_lexer": "ipython3",
   "version": "3.12.7"
  }
 },
 "nbformat": 4,
 "nbformat_minor": 5
}
