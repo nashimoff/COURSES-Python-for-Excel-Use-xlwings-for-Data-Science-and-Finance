{
 "cells": [
  {
   "cell_type": "code",
   "id": "63dff077-0f77-4b90-9fc5-98e1654ce0e0",
   "metadata": {
    "ExecuteTime": {
     "end_time": "2025-08-27T09:52:01.163220Z",
     "start_time": "2025-08-27T09:51:55.269236Z"
    }
   },
   "source": [
    "import xlwings as xw"
   ],
   "outputs": [],
   "execution_count": 1
  },
  {
   "cell_type": "code",
   "id": "34730a57-5067-46f1-b697-359194757721",
   "metadata": {
    "ExecuteTime": {
     "end_time": "2025-08-27T09:52:01.751090Z",
     "start_time": "2025-08-27T09:52:01.164219Z"
    }
   },
   "source": [
    "wb = xw.Book()\n",
    "wb"
   ],
   "outputs": [
    {
     "data": {
      "text/plain": [
       "<Book [Книга1]>"
      ]
     },
     "execution_count": 2,
     "metadata": {},
     "output_type": "execute_result"
    }
   ],
   "execution_count": 2
  },
  {
   "cell_type": "code",
   "id": "07116e64-9d7e-423d-affa-bd20bed53534",
   "metadata": {
    "ExecuteTime": {
     "end_time": "2025-08-27T09:52:01.785021Z",
     "start_time": "2025-08-27T09:52:01.753087Z"
    }
   },
   "source": [
    "sheet = wb.sheets[0]\n",
    "sheet"
   ],
   "outputs": [
    {
     "data": {
      "text/plain": [
       "<Sheet [Книга1]Лист1>"
      ]
     },
     "execution_count": 3,
     "metadata": {},
     "output_type": "execute_result"
    }
   ],
   "execution_count": 3
  },
  {
   "cell_type": "code",
   "id": "fe3e1749-8ccd-45a7-988c-6d4f576949d3",
   "metadata": {
    "ExecuteTime": {
     "end_time": "2025-08-27T09:52:01.800532Z",
     "start_time": "2025-08-27T09:52:01.786553Z"
    }
   },
   "source": [
    "sheet.range(\"A1\").value = 123"
   ],
   "outputs": [],
   "execution_count": 4
  },
  {
   "cell_type": "code",
   "id": "a552d260-6ee5-415b-82b3-149ab33a347c",
   "metadata": {
    "ExecuteTime": {
     "end_time": "2025-08-27T09:52:01.813606Z",
     "start_time": "2025-08-27T09:52:01.801524Z"
    }
   },
   "source": [
    "sheet.range(\"A1\").value"
   ],
   "outputs": [
    {
     "data": {
      "text/plain": [
       "123.0"
      ]
     },
     "execution_count": 5,
     "metadata": {},
     "output_type": "execute_result"
    }
   ],
   "execution_count": 5
  },
  {
   "cell_type": "code",
   "id": "a8a5938d-3096-4c56-a755-c98378476791",
   "metadata": {
    "ExecuteTime": {
     "end_time": "2025-08-27T09:52:01.821094Z",
     "start_time": "2025-08-27T09:52:01.815120Z"
    }
   },
   "source": [
    "l = [1, 2, 3, 4]"
   ],
   "outputs": [],
   "execution_count": 6
  },
  {
   "cell_type": "code",
   "id": "d8a93a48-24a1-4431-99d0-c6f5660caf10",
   "metadata": {
    "ExecuteTime": {
     "end_time": "2025-08-27T09:52:01.870811Z",
     "start_time": "2025-08-27T09:52:01.823090Z"
    }
   },
   "source": [
    "sheet.range(\"A1\").value = l #writing a list horizontally"
   ],
   "outputs": [],
   "execution_count": 7
  },
  {
   "cell_type": "code",
   "id": "87392143-7ffa-4be9-8dd7-4dbaddb191ed",
   "metadata": {
    "ExecuteTime": {
     "end_time": "2025-08-27T09:52:01.891687Z",
     "start_time": "2025-08-27T09:52:01.873801Z"
    }
   },
   "source": [
    "sheet.range(\"A1\").value"
   ],
   "outputs": [
    {
     "data": {
      "text/plain": [
       "1.0"
      ]
     },
     "execution_count": 8,
     "metadata": {},
     "output_type": "execute_result"
    }
   ],
   "execution_count": 8
  },
  {
   "cell_type": "code",
   "id": "d95352dc-20a5-4730-9841-ddbcba1a3536",
   "metadata": {
    "ExecuteTime": {
     "end_time": "2025-08-27T09:52:01.915203Z",
     "start_time": "2025-08-27T09:52:01.893684Z"
    }
   },
   "source": [
    "sheet.range(\"B1\").value"
   ],
   "outputs": [
    {
     "data": {
      "text/plain": [
       "2.0"
      ]
     },
     "execution_count": 9,
     "metadata": {},
     "output_type": "execute_result"
    }
   ],
   "execution_count": 9
  },
  {
   "cell_type": "code",
   "id": "e30b16b5-3a49-46b2-ad0b-920c6d05d167",
   "metadata": {
    "ExecuteTime": {
     "end_time": "2025-08-27T09:52:01.930409Z",
     "start_time": "2025-08-27T09:52:01.917704Z"
    }
   },
   "source": [
    "sheet.range(\"A1:D1\").value #reading an excel row into a list"
   ],
   "outputs": [
    {
     "data": {
      "text/plain": [
       "[1.0, 2.0, 3.0, 4.0]"
      ]
     },
     "execution_count": 10,
     "metadata": {},
     "output_type": "execute_result"
    }
   ],
   "execution_count": 10
  },
  {
   "cell_type": "code",
   "id": "fe6bef3d-604a-4ab8-8ec7-6a9c524d9ca9",
   "metadata": {
    "ExecuteTime": {
     "end_time": "2025-08-27T09:52:01.943968Z",
     "start_time": "2025-08-27T09:52:01.930920Z"
    }
   },
   "source": [
    "#writing a scalar value multiple times (horizontally)\n",
    "sheet.range(\"A2:D2\").value = 765"
   ],
   "outputs": [],
   "execution_count": 11
  },
  {
   "cell_type": "code",
   "id": "fb610fca-6337-4dc0-b162-8423f47f18c1",
   "metadata": {
    "ExecuteTime": {
     "end_time": "2025-08-27T09:52:01.954079Z",
     "start_time": "2025-08-27T09:52:01.944965Z"
    }
   },
   "source": [
    "sheet.range(\"A2:D2\").value #reading an excel row into a list"
   ],
   "outputs": [
    {
     "data": {
      "text/plain": [
       "[765.0, 765.0, 765.0, 765.0]"
      ]
     },
     "execution_count": 12,
     "metadata": {},
     "output_type": "execute_result"
    }
   ],
   "execution_count": 12
  },
  {
   "cell_type": "code",
   "id": "e038d50f-537e-4661-a11f-f8d72744c532",
   "metadata": {
    "ExecuteTime": {
     "end_time": "2025-08-27T09:52:01.958126Z",
     "start_time": "2025-08-27T09:52:01.954591Z"
    }
   },
   "source": [
    "l2 = [5, 6, 7]"
   ],
   "outputs": [],
   "execution_count": 13
  },
  {
   "cell_type": "code",
   "id": "8333ae4b-b828-4565-a641-135b570ebe73",
   "metadata": {
    "ExecuteTime": {
     "end_time": "2025-08-27T09:52:01.982141Z",
     "start_time": "2025-08-27T09:52:01.960625Z"
    }
   },
   "source": [
    "#writing a list vertically\n",
    "sheet.range(\"A3:A5\").value = l2 #this does not work!"
   ],
   "outputs": [],
   "execution_count": 14
  },
  {
   "cell_type": "code",
   "id": "38bd47da-1aa7-4f78-bad2-cbfed009744f",
   "metadata": {
    "ExecuteTime": {
     "end_time": "2025-08-27T09:52:01.990131Z",
     "start_time": "2025-08-27T09:52:01.983140Z"
    }
   },
   "source": [
    "#writing a scalar value multiple times (vertically)\n",
    "sheet.range(\"A4:A6\").value = 423 #this works!"
   ],
   "outputs": [],
   "execution_count": 15
  },
  {
   "cell_type": "code",
   "id": "5e63be1d-a691-418d-8243-d8d9869f5b52",
   "metadata": {
    "ExecuteTime": {
     "end_time": "2025-08-27T09:52:01.997609Z",
     "start_time": "2025-08-27T09:52:01.991125Z"
    }
   },
   "source": [
    "sheet.range(\"A1:A6\").value  #reading an excel column into a list"
   ],
   "outputs": [
    {
     "data": {
      "text/plain": [
       "[1.0, 765.0, 5.0, 423.0, 423.0, 423.0]"
      ]
     },
     "execution_count": 16,
     "metadata": {},
     "output_type": "execute_result"
    }
   ],
   "execution_count": 16
  },
  {
   "cell_type": "code",
   "id": "078b5761-97c8-45ff-bb9e-cbfa6f78f067",
   "metadata": {
    "ExecuteTime": {
     "end_time": "2025-08-27T09:52:02.000754Z",
     "start_time": "2025-08-27T09:52:01.998608Z"
    }
   },
   "source": [
    "l2 = [5, 6, 7]"
   ],
   "outputs": [],
   "execution_count": 17
  },
  {
   "cell_type": "code",
   "id": "854ed9f2-85c8-4697-bd6a-429a5d482706",
   "metadata": {
    "ExecuteTime": {
     "end_time": "2025-08-27T09:52:02.022913Z",
     "start_time": "2025-08-27T09:52:02.001754Z"
    }
   },
   "source": [
    "#writing a list vertically\n",
    "sheet.range(\"A7\").value = l2 #this does not work!"
   ],
   "outputs": [],
   "execution_count": 18
  },
  {
   "cell_type": "code",
   "id": "705408bf-6557-4def-9edf-603772f98773",
   "metadata": {
    "ExecuteTime": {
     "end_time": "2025-08-27T09:52:02.045084Z",
     "start_time": "2025-08-27T09:52:02.023912Z"
    }
   },
   "source": [
    "sheet.range(\"A7\").options(transpose = True).value = l2 # this"
   ],
   "outputs": [],
   "execution_count": 19
  },
  {
   "cell_type": "code",
   "id": "d07f2dc7-60b9-448f-a2cc-8e9cb653cd02",
   "metadata": {
    "ExecuteTime": {
     "end_time": "2025-08-27T09:52:02.052977Z",
     "start_time": "2025-08-27T09:52:02.046083Z"
    }
   },
   "source": [
    "sheet.range(\"A1:D1\").value #1 dim"
   ],
   "outputs": [
    {
     "data": {
      "text/plain": [
       "[1.0, 2.0, 3.0, 4.0]"
      ]
     },
     "execution_count": 20,
     "metadata": {},
     "output_type": "execute_result"
    }
   ],
   "execution_count": 20
  },
  {
   "cell_type": "code",
   "id": "cbe1a2af-61ea-4aa6-a246-13f3fd45b88e",
   "metadata": {
    "ExecuteTime": {
     "end_time": "2025-08-27T09:52:02.059958Z",
     "start_time": "2025-08-27T09:52:02.052977Z"
    }
   },
   "source": [
    "sheet.range(\"A1:A9\").value # 1 dim"
   ],
   "outputs": [
    {
     "data": {
      "text/plain": [
       "[1.0, 765.0, 5.0, 423.0, 423.0, 423.0, 5.0, 6.0, 7.0]"
      ]
     },
     "execution_count": 21,
     "metadata": {},
     "output_type": "execute_result"
    }
   ],
   "execution_count": 21
  },
  {
   "cell_type": "code",
   "id": "1e2129d4-f7a9-4646-a706-c156a8fffb68",
   "metadata": {
    "ExecuteTime": {
     "end_time": "2025-08-27T09:52:02.067451Z",
     "start_time": "2025-08-27T09:52:02.059958Z"
    }
   },
   "source": [
    "sheet.range(\"A1:A9\").options(ndim = 1).value # 1dim"
   ],
   "outputs": [
    {
     "data": {
      "text/plain": [
       "[1.0, 765.0, 5.0, 423.0, 423.0, 423.0, 5.0, 6.0, 7.0]"
      ]
     },
     "execution_count": 22,
     "metadata": {},
     "output_type": "execute_result"
    }
   ],
   "execution_count": 22
  },
  {
   "cell_type": "code",
   "id": "3f69e2e7-c6cc-43d8-96d7-aac44e9cffcf",
   "metadata": {
    "ExecuteTime": {
     "end_time": "2025-08-27T09:52:02.073819Z",
     "start_time": "2025-08-27T09:52:02.068452Z"
    }
   },
   "source": [
    "sheet.range(\"A1:A9\").options(ndim = 2).value # 2dim"
   ],
   "outputs": [
    {
     "data": {
      "text/plain": [
       "[[1.0], [765.0], [5.0], [423.0], [423.0], [423.0], [5.0], [6.0], [7.0]]"
      ]
     },
     "execution_count": 23,
     "metadata": {},
     "output_type": "execute_result"
    }
   ],
   "execution_count": 23
  },
  {
   "cell_type": "code",
   "id": "d0d6d46f-b0ce-48e5-88b8-7c59e307bc16",
   "metadata": {
    "ExecuteTime": {
     "end_time": "2025-08-27T09:52:02.081794Z",
     "start_time": "2025-08-27T09:52:02.074818Z"
    }
   },
   "source": [
    "sheet.range(\"A1:D1\").options(ndim = 1).value # 1dim"
   ],
   "outputs": [
    {
     "data": {
      "text/plain": [
       "[1.0, 2.0, 3.0, 4.0]"
      ]
     },
     "execution_count": 24,
     "metadata": {},
     "output_type": "execute_result"
    }
   ],
   "execution_count": 24
  },
  {
   "cell_type": "code",
   "id": "9b0155a2-a80d-40bb-b034-31d228087bb9",
   "metadata": {
    "ExecuteTime": {
     "end_time": "2025-08-27T09:52:02.089231Z",
     "start_time": "2025-08-27T09:52:02.081794Z"
    }
   },
   "source": [
    "sheet.range(\"A1:D1\").options(ndim = 2).value # 1dim"
   ],
   "outputs": [
    {
     "data": {
      "text/plain": [
       "[[1.0, 2.0, 3.0, 4.0]]"
      ]
     },
     "execution_count": 25,
     "metadata": {},
     "output_type": "execute_result"
    }
   ],
   "execution_count": 25
  },
  {
   "cell_type": "code",
   "id": "fd5cec63-2c36-4f77-a00b-63785a2a7e69",
   "metadata": {
    "ExecuteTime": {
     "end_time": "2025-08-27T09:52:02.094287Z",
     "start_time": "2025-08-27T09:52:02.089231Z"
    }
   },
   "source": [
    "sheet.range(\"A4:A9\").clear()"
   ],
   "outputs": [],
   "execution_count": 26
  },
  {
   "cell_type": "code",
   "id": "d41c2a09-6cf9-4d88-817e-11d3a975e43a",
   "metadata": {
    "ExecuteTime": {
     "end_time": "2025-08-27T09:52:02.101435Z",
     "start_time": "2025-08-27T09:52:02.095287Z"
    }
   },
   "source": [
    "sheet.range(\"A1:C3\").value"
   ],
   "outputs": [
    {
     "data": {
      "text/plain": [
       "[[1.0, 2.0, 3.0], [765.0, 765.0, 765.0], [5.0, 6.0, 7.0]]"
      ]
     },
     "execution_count": 27,
     "metadata": {},
     "output_type": "execute_result"
    }
   ],
   "execution_count": 27
  },
  {
   "cell_type": "code",
   "id": "effdfd92-a1a8-43f0-8bb0-fcbf0ef410f4",
   "metadata": {
    "ExecuteTime": {
     "end_time": "2025-08-27T09:52:02.108792Z",
     "start_time": "2025-08-27T09:52:02.101435Z"
    }
   },
   "source": [
    "sheet.range(\"A1:D3\").value"
   ],
   "outputs": [
    {
     "data": {
      "text/plain": [
       "[[1.0, 2.0, 3.0, 4.0], [765.0, 765.0, 765.0, 765.0], [5.0, 6.0, 7.0, None]]"
      ]
     },
     "execution_count": 28,
     "metadata": {},
     "output_type": "execute_result"
    }
   ],
   "execution_count": 28
  },
  {
   "cell_type": "code",
   "id": "347a0978-f2e7-46ff-b197-5d327fdc2699",
   "metadata": {
    "ExecuteTime": {
     "end_time": "2025-08-27T09:52:02.116509Z",
     "start_time": "2025-08-27T09:52:02.108792Z"
    }
   },
   "source": [
    "sheet.range(\"A1:E4\").value"
   ],
   "outputs": [
    {
     "data": {
      "text/plain": [
       "[[1.0, 2.0, 3.0, 4.0, None],\n",
       " [765.0, 765.0, 765.0, 765.0, None],\n",
       " [5.0, 6.0, 7.0, None, None],\n",
       " [None, None, None, None, None]]"
      ]
     },
     "execution_count": 29,
     "metadata": {},
     "output_type": "execute_result"
    }
   ],
   "execution_count": 29
  },
  {
   "cell_type": "code",
   "id": "8e5f56af-95ed-401f-bc59-793f2ee6a3f5",
   "metadata": {
    "ExecuteTime": {
     "end_time": "2025-08-27T09:52:02.123194Z",
     "start_time": "2025-08-27T09:52:02.117510Z"
    }
   },
   "source": [
    "sheet.range(\"A1:C3\").options(transpose = True).value #transpose"
   ],
   "outputs": [
    {
     "data": {
      "text/plain": [
       "[[1.0, 765.0, 5.0], [2.0, 765.0, 6.0], [3.0, 765.0, 7.0]]"
      ]
     },
     "execution_count": 30,
     "metadata": {},
     "output_type": "execute_result"
    }
   ],
   "execution_count": 30
  },
  {
   "cell_type": "code",
   "id": "45ebaee4-78bb-4357-aa5c-9dcea419ed31",
   "metadata": {
    "ExecuteTime": {
     "end_time": "2025-08-27T09:52:02.131685Z",
     "start_time": "2025-08-27T09:52:02.124193Z"
    }
   },
   "source": [
    "sheet.range(\"A1:D1\").value"
   ],
   "outputs": [
    {
     "data": {
      "text/plain": [
       "[1.0, 2.0, 3.0, 4.0]"
      ]
     },
     "execution_count": 31,
     "metadata": {},
     "output_type": "execute_result"
    }
   ],
   "execution_count": 31
  },
  {
   "cell_type": "code",
   "id": "70713e02-9b35-4cf8-809b-80196bf85a52",
   "metadata": {
    "ExecuteTime": {
     "end_time": "2025-08-27T09:52:02.149057Z",
     "start_time": "2025-08-27T09:52:02.131685Z"
    }
   },
   "source": [
    "sheet.range(\"A1\").expand(\"right\").value #full row "
   ],
   "outputs": [
    {
     "data": {
      "text/plain": [
       "[1.0, 2.0, 3.0, 4.0]"
      ]
     },
     "execution_count": 32,
     "metadata": {},
     "output_type": "execute_result"
    }
   ],
   "execution_count": 32
  },
  {
   "cell_type": "code",
   "id": "b28d21b0-6445-4ffb-a213-22ce54fa09b6",
   "metadata": {
    "ExecuteTime": {
     "end_time": "2025-08-27T09:52:02.167550Z",
     "start_time": "2025-08-27T09:52:02.149057Z"
    }
   },
   "source": [
    "sheet.range(\"A1\").expand(\"down\").value #full column "
   ],
   "outputs": [
    {
     "data": {
      "text/plain": [
       "[1.0, 765.0, 5.0]"
      ]
     },
     "execution_count": 33,
     "metadata": {},
     "output_type": "execute_result"
    }
   ],
   "execution_count": 33
  },
  {
   "cell_type": "code",
   "id": "693411e9-2dc6-419f-a434-9f216fa30637",
   "metadata": {
    "ExecuteTime": {
     "end_time": "2025-08-27T09:52:02.183179Z",
     "start_time": "2025-08-27T09:52:02.168551Z"
    }
   },
   "source": [
    "sheet.range(\"A1\").expand(\"table\").value #full table "
   ],
   "outputs": [
    {
     "data": {
      "text/plain": [
       "[[1.0, 2.0, 3.0, 4.0], [765.0, 765.0, 765.0, 765.0], [5.0, 6.0, 7.0, None]]"
      ]
     },
     "execution_count": 34,
     "metadata": {},
     "output_type": "execute_result"
    }
   ],
   "execution_count": 34
  },
  {
   "cell_type": "code",
   "id": "6b1830f5-9cea-41b4-a460-fd23f4cdc916",
   "metadata": {
    "ExecuteTime": {
     "end_time": "2025-08-27T09:52:02.203430Z",
     "start_time": "2025-08-27T09:52:02.184179Z"
    }
   },
   "source": [
    "sheet.range(\"A1\").expand().value #full table "
   ],
   "outputs": [
    {
     "data": {
      "text/plain": [
       "[[1.0, 2.0, 3.0, 4.0], [765.0, 765.0, 765.0, 765.0], [5.0, 6.0, 7.0, None]]"
      ]
     },
     "execution_count": 35,
     "metadata": {},
     "output_type": "execute_result"
    }
   ],
   "execution_count": 35
  },
  {
   "cell_type": "code",
   "id": "c5a176de-f7d4-4a3c-af78-fcfca3c76b0b",
   "metadata": {
    "ExecuteTime": {
     "end_time": "2025-08-27T09:52:02.223056Z",
     "start_time": "2025-08-27T09:52:02.204430Z"
    }
   },
   "source": [
    "sheet.range(\"A1\").options(expand = \"table\").value #full table "
   ],
   "outputs": [
    {
     "data": {
      "text/plain": [
       "[[1.0, 2.0, 3.0, 4.0], [765.0, 765.0, 765.0, 765.0], [5.0, 6.0, 7.0, None]]"
      ]
     },
     "execution_count": 36,
     "metadata": {},
     "output_type": "execute_result"
    }
   ],
   "execution_count": 36
  },
  {
   "cell_type": "code",
   "id": "2f576940-59d7-417f-8cda-40bb92026092",
   "metadata": {
    "ExecuteTime": {
     "end_time": "2025-08-27T09:52:02.242525Z",
     "start_time": "2025-08-27T09:52:02.223056Z"
    }
   },
   "source": [
    "sheet.range(\"A1\").options(ndim = 2, expand = \"down\").value #full column "
   ],
   "outputs": [
    {
     "data": {
      "text/plain": [
       "[[1.0], [765.0], [5.0]]"
      ]
     },
     "execution_count": 37,
     "metadata": {},
     "output_type": "execute_result"
    }
   ],
   "execution_count": 37
  },
  {
   "cell_type": "code",
   "id": "7631d4b9-4431-4da9-8b89-ebe91b176e72",
   "metadata": {
    "ExecuteTime": {
     "end_time": "2025-08-27T09:52:02.262699Z",
     "start_time": "2025-08-27T09:52:02.242525Z"
    }
   },
   "source": [
    "sheet.range(\"A4\").value = [[1,2], [3,4]]"
   ],
   "outputs": [],
   "execution_count": 38
  },
  {
   "cell_type": "code",
   "id": "5313d586-f594-42aa-becc-8d81a4533cbb",
   "metadata": {
    "ExecuteTime": {
     "end_time": "2025-08-27T09:52:02.282251Z",
     "start_time": "2025-08-27T09:52:02.263697Z"
    }
   },
   "source": [
    "sheet.range(\"A7\").options(transpose = True).value = [5, 6, 7]"
   ],
   "outputs": [],
   "execution_count": 39
  },
  {
   "cell_type": "code",
   "id": "1d597bf5-a13f-45b4-8bc0-4f1bbc184dc6",
   "metadata": {
    "ExecuteTime": {
     "end_time": "2025-08-27T09:52:02.302062Z",
     "start_time": "2025-08-27T09:52:02.283144Z"
    }
   },
   "source": [
    "sheet.range(\"A7\").value = [[5], [6], [7]]"
   ],
   "outputs": [],
   "execution_count": 40
  },
  {
   "cell_type": "code",
   "id": "7a2d780c-f3dc-4cd8-86ee-f727cad27e03",
   "metadata": {
    "ExecuteTime": {
     "end_time": "2025-08-27T09:52:02.306624Z",
     "start_time": "2025-08-27T09:52:02.305054Z"
    }
   },
   "source": [],
   "outputs": [],
   "execution_count": 40
  }
 ],
 "metadata": {
  "kernelspec": {
   "display_name": "Python 3 (ipykernel)",
   "language": "python",
   "name": "python3"
  },
  "language_info": {
   "codemirror_mode": {
    "name": "ipython",
    "version": 3
   },
   "file_extension": ".py",
   "mimetype": "text/x-python",
   "name": "python",
   "nbconvert_exporter": "python",
   "pygments_lexer": "ipython3",
   "version": "3.12.7"
  }
 },
 "nbformat": 4,
 "nbformat_minor": 5
}
