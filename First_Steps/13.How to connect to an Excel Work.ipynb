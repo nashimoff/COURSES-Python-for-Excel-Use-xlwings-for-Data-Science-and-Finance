{
 "cells": [
  {
   "cell_type": "code",
   "execution_count": 1,
   "id": "aad07aa5-a8af-427d-ab67-aa8adbb969bc",
   "metadata": {},
   "outputs": [],
   "source": [
    "import xlwings as xw"
   ]
  },
  {
   "cell_type": "code",
   "execution_count": 7,
   "id": "e66ab7f0-f763-444d-bbff-7f666dd007c2",
   "metadata": {},
   "outputs": [
    {
     "data": {
      "text/plain": [
       "<Book [Книга1]>"
      ]
     },
     "execution_count": 7,
     "metadata": {},
     "output_type": "execute_result"
    }
   ],
   "source": [
    "xw.Book()"
   ]
  },
  {
   "cell_type": "code",
   "execution_count": 8,
   "id": "6543fc92-fafa-4f8a-8293-4a71f9819202",
   "metadata": {},
   "outputs": [],
   "source": [
    "xw.books.active.close()"
   ]
  },
  {
   "cell_type": "code",
   "execution_count": 15,
   "id": "86ca7d35-b5f3-458f-9e06-48849d3276c9",
   "metadata": {},
   "outputs": [],
   "source": [
    "wb = xw.Book()"
   ]
  },
  {
   "cell_type": "code",
   "execution_count": 16,
   "id": "4edf696f-8791-45a1-b023-998be128f2ed",
   "metadata": {},
   "outputs": [
    {
     "data": {
      "text/plain": [
       "<Book [Книга1]>"
      ]
     },
     "execution_count": 16,
     "metadata": {},
     "output_type": "execute_result"
    }
   ],
   "source": [
    "wb"
   ]
  },
  {
   "cell_type": "code",
   "execution_count": 17,
   "id": "80ff81c9-6400-4389-bf65-fd86cee96705",
   "metadata": {},
   "outputs": [],
   "source": [
    "# wb.close()"
   ]
  },
  {
   "cell_type": "code",
   "execution_count": 18,
   "id": "c96cf96e-06ac-4a17-a9b5-9bfa57d89003",
   "metadata": {},
   "outputs": [
    {
     "data": {
      "text/plain": [
       "<Book [Книга1]>"
      ]
     },
     "execution_count": 18,
     "metadata": {},
     "output_type": "execute_result"
    }
   ],
   "source": [
    "wb = xw.Book(\"Книга1\")\n",
    "wb"
   ]
  },
  {
   "cell_type": "code",
   "execution_count": 20,
   "id": "6b109a2f-915a-4678-930b-f106aaa356b8",
   "metadata": {},
   "outputs": [
    {
     "data": {
      "text/plain": [
       "'E:\\\\COURSES\\\\Python for Excel Use xlwings for Data Science and Finance\\\\First_Steps'"
      ]
     },
     "execution_count": 20,
     "metadata": {},
     "output_type": "execute_result"
    }
   ],
   "source": [
    "pwd"
   ]
  },
  {
   "cell_type": "code",
   "execution_count": 22,
   "id": "bd6352b7-fae4-4f23-b4ca-1c147bef5e41",
   "metadata": {},
   "outputs": [
    {
     "name": "stdout",
     "output_type": "stream",
     "text": [
      " ’®¬ ў гбва®©бвўҐ E Ё¬ҐҐв ¬ҐвЄг Ќ®ўл© в®¬\n",
      " ‘ҐаЁ©­л© ­®¬Ґа в®¬ : 54EE-BEA3\n",
      "\n",
      " ‘®¤Ґа¦Ё¬®Ґ Ї ЇЄЁ E:\\COURSES\\Python for Excel Use xlwings for Data Science and Finance\\First_Steps\n",
      "\n",
      "20/08/2025  11:42    <DIR>          .\n",
      "20/08/2025  11:42    <DIR>          ..\n",
      "20/08/2025  10:36    <DIR>          .ipynb_checkpoints\n",
      "20/08/2025  10:29           394,524 11.How to use xlwings as a Data Viewer.ipynb\n",
      "20/08/2025  11:40             2,493 13.How to connect to an Excel Work.ipynb\n",
      "11/01/2023  13:04            10,983 CaseStudy_1.xlsx\n",
      "19/08/2025  13:30            23,277 First_Steps_original.ipynb\n",
      "11/01/2023  11:37             8,689 Test2.xlsx\n",
      "11/01/2023  11:37            25,173 titanic.csv\n",
      "               6 д ©«®ў        465,139 Ў ©в\n",
      "               3 Ї Ї®Є  178,519,732,224 Ў ©в бў®Ў®¤­®\n"
     ]
    }
   ],
   "source": [
    "ls"
   ]
  },
  {
   "cell_type": "code",
   "execution_count": 23,
   "id": "b13c82e3-5648-4677-80d2-e9c4c458f579",
   "metadata": {},
   "outputs": [
    {
     "data": {
      "text/plain": [
       "'E:\\\\COURSES\\\\Python for Excel Use xlwings for Data Science and Finance\\\\First_Steps\\\\Test2.xlsx'"
      ]
     },
     "execution_count": 23,
     "metadata": {},
     "output_type": "execute_result"
    }
   ],
   "source": [
    "r\"E:\\COURSES\\Python for Excel Use xlwings for Data Science and Finance\\First_Steps\\Test2.xlsx\""
   ]
  },
  {
   "cell_type": "code",
   "execution_count": 24,
   "id": "1d3d4771-157d-4319-b933-881a571cb301",
   "metadata": {},
   "outputs": [],
   "source": [
    "path = r\"E:\\COURSES\\Python for Excel Use xlwings for Data Science and Finance\\First_Steps\\Test2.xlsx\""
   ]
  },
  {
   "cell_type": "code",
   "execution_count": 26,
   "id": "346cec3f-8f3c-4bda-818b-d39336b0dd7a",
   "metadata": {},
   "outputs": [
    {
     "data": {
      "text/plain": [
       "<Book [Test2.xlsx]>"
      ]
     },
     "execution_count": 26,
     "metadata": {},
     "output_type": "execute_result"
    }
   ],
   "source": [
    "wb = xw.Book(path)\n",
    "wb"
   ]
  },
  {
   "cell_type": "code",
   "execution_count": 28,
   "id": "b969b1a4-c81a-4b1f-81fc-94410216aba7",
   "metadata": {},
   "outputs": [
    {
     "data": {
      "text/plain": [
       "<Book [Test2.xlsx]>"
      ]
     },
     "execution_count": 28,
     "metadata": {},
     "output_type": "execute_result"
    }
   ],
   "source": [
    "wb = xw.Book(\"Test2.xlsx\")\n",
    "wb"
   ]
  },
  {
   "cell_type": "code",
   "execution_count": null,
   "id": "069fe744-0a4a-4792-a6bc-7852bbd4b773",
   "metadata": {},
   "outputs": [],
   "source": []
  }
 ],
 "metadata": {
  "kernelspec": {
   "display_name": "Python 3 (ipykernel)",
   "language": "python",
   "name": "python3"
  },
  "language_info": {
   "codemirror_mode": {
    "name": "ipython",
    "version": 3
   },
   "file_extension": ".py",
   "mimetype": "text/x-python",
   "name": "python",
   "nbconvert_exporter": "python",
   "pygments_lexer": "ipython3",
   "version": "3.12.7"
  }
 },
 "nbformat": 4,
 "nbformat_minor": 5
}
