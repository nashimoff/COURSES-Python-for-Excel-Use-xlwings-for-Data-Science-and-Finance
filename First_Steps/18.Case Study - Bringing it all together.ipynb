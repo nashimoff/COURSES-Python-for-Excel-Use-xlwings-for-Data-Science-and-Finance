{
 "cells": [
  {
   "cell_type": "code",
   "execution_count": 10,
   "id": "75c2a11c-84a8-474b-ad92-b7babc18fa8a",
   "metadata": {},
   "outputs": [],
   "source": [
    "import xlwings as xw\n",
    "import numpy_financial as npf\n",
    "import numpy as np"
   ]
  },
  {
   "cell_type": "code",
   "execution_count": 11,
   "id": "dedd5ae4-6835-4430-badb-7392707d348e",
   "metadata": {},
   "outputs": [
    {
     "data": {
      "text/plain": [
       "<Book [CaseStudy_1.xlsx]>"
      ]
     },
     "execution_count": 11,
     "metadata": {},
     "output_type": "execute_result"
    }
   ],
   "source": [
    "wb = xw.Book(\"CaseStudy_1.xlsx\")\n",
    "wb"
   ]
  },
  {
   "cell_type": "code",
   "execution_count": 12,
   "id": "04ca1da5-8ccb-464b-bb79-4d86dab99241",
   "metadata": {},
   "outputs": [
    {
     "data": {
      "text/plain": [
       "<Sheet [CaseStudy_1.xlsx]Sheet1>"
      ]
     },
     "execution_count": 12,
     "metadata": {},
     "output_type": "execute_result"
    }
   ],
   "source": [
    "sheet = wb.sheets[0]\n",
    "sheet"
   ]
  },
  {
   "cell_type": "code",
   "execution_count": 13,
   "id": "391719ca-a709-44b7-8c5b-f15355836058",
   "metadata": {},
   "outputs": [],
   "source": [
    "sheet.range(\"B1\").name = \"Saving\""
   ]
  },
  {
   "cell_type": "code",
   "execution_count": 14,
   "id": "3773e1a7-d1e0-4918-9552-95e2dacf8ad0",
   "metadata": {},
   "outputs": [],
   "source": [
    "sheet.range(\"B2\").name = \"Interest_Rate\""
   ]
  },
  {
   "cell_type": "code",
   "execution_count": 15,
   "id": "5763bce6-51dc-490a-a5ca-04b5e3fcb20f",
   "metadata": {},
   "outputs": [],
   "source": [
    "sheet.range(\"B3\").name = \"Periods\""
   ]
  },
  {
   "cell_type": "code",
   "execution_count": 16,
   "id": "27822ee1-85a3-4553-8e13-5c1ca5a03d0b",
   "metadata": {},
   "outputs": [],
   "source": [
    "sheet.range(\"B4\").name = \"Future_Value\""
   ]
  },
  {
   "cell_type": "code",
   "execution_count": 22,
   "id": "67eea8d7-14bf-46f5-88c0-a46b878159da",
   "metadata": {},
   "outputs": [],
   "source": [
    "fv = -npf.fv(rate = sheet.range(\"Interest_Rate\").value,\n",
    "            nper = sheet.range(\"Periods\").value,\n",
    "            pmt = 0,\n",
    "            pv = sheet.range(\"Saving\").value\n",
    "            )"
   ]
  },
  {
   "cell_type": "code",
   "execution_count": 23,
   "id": "bce07b52-5b5f-4dcd-a2bd-f43f58676388",
   "metadata": {},
   "outputs": [
    {
     "data": {
      "text/plain": [
       "126.24769600000003"
      ]
     },
     "execution_count": 23,
     "metadata": {},
     "output_type": "execute_result"
    }
   ],
   "source": [
    "fv"
   ]
  },
  {
   "cell_type": "code",
   "execution_count": 21,
   "id": "0ea71052-c283-48f7-a661-3e64d06a41f2",
   "metadata": {},
   "outputs": [],
   "source": [
    "sheet.range(\"Future_Value\").value = fv"
   ]
  },
  {
   "cell_type": "code",
   "execution_count": null,
   "id": "877e4611-915d-450c-91b3-c0746c1468ad",
   "metadata": {},
   "outputs": [],
   "source": []
  }
 ],
 "metadata": {
  "kernelspec": {
   "display_name": "Python 3 (ipykernel)",
   "language": "python",
   "name": "python3"
  },
  "language_info": {
   "codemirror_mode": {
    "name": "ipython",
    "version": 3
   },
   "file_extension": ".py",
   "mimetype": "text/x-python",
   "name": "python",
   "nbconvert_exporter": "python",
   "pygments_lexer": "ipython3",
   "version": "3.12.7"
  }
 },
 "nbformat": 4,
 "nbformat_minor": 5
}
